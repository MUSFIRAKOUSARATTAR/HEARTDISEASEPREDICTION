{
 "cells": [
  {
   "cell_type": "code",
   "execution_count": 1,
   "id": "89e4647c",
   "metadata": {},
   "outputs": [],
   "source": [
    "import numpy as np\n",
    "import pandas as pd\n",
    "from sklearn.model_selection import train_test_split, GridSearchCV\n",
    "from sklearn.svm import SVC\n",
    "from sklearn.preprocessing import StandardScaler\n",
    "from sklearn.metrics import accuracy_score\n"
   ]
  },
  {
   "cell_type": "code",
   "execution_count": 2,
   "id": "661f0855",
   "metadata": {},
   "outputs": [],
   "source": [
    "heart_df = pd.read_csv('heart_disease_data.csv')\n"
   ]
  },
  {
   "cell_type": "code",
   "execution_count": 3,
   "id": "8cf10d1d",
   "metadata": {},
   "outputs": [],
   "source": [
    "# Separate features and labels\n",
    "X = heart_df.drop('target', axis=1)\n",
    "Y = heart_df['target']"
   ]
  },
  {
   "cell_type": "code",
   "execution_count": 4,
   "id": "880d920e",
   "metadata": {},
   "outputs": [],
   "source": [
    "# Split the data into training and testing sets\n",
    "X_train, X_test, Y_train, Y_test = train_test_split(X, Y, test_size=0.2, random_state=42)\n"
   ]
  },
  {
   "cell_type": "code",
   "execution_count": 5,
   "id": "a2b4152f",
   "metadata": {},
   "outputs": [],
   "source": [
    "scaler = StandardScaler()\n",
    "X_train_scaled = scaler.fit_transform(X_train)\n",
    "X_test_scaled = scaler.transform(X_test)\n"
   ]
  },
  {
   "cell_type": "code",
   "execution_count": 6,
   "id": "5c2aabf3",
   "metadata": {},
   "outputs": [
    {
     "data": {
      "text/plain": [
       "GridSearchCV(cv=5, estimator=SVC(),\n",
       "             param_grid={'C': [0.1, 1, 10, 100],\n",
       "                         'gamma': [0.1, 0.01, 0.001, 0.0001],\n",
       "                         'kernel': ['linear', 'rbf']})"
      ]
     },
     "execution_count": 6,
     "metadata": {},
     "output_type": "execute_result"
    }
   ],
   "source": [
    "# Perform grid search for hyperparameter tuning\n",
    "param_grid = {'C': [0.1, 1, 10, 100], 'gamma': [0.1, 0.01, 0.001, 0.0001], 'kernel': ['linear', 'rbf']}\n",
    "svm_model = SVC()\n",
    "grid_search = GridSearchCV(svm_model, param_grid, cv=5)\n",
    "grid_search.fit(X_train_scaled, Y_train)\n"
   ]
  },
  {
   "cell_type": "code",
   "execution_count": 7,
   "id": "6d21279f",
   "metadata": {},
   "outputs": [],
   "source": [
    "# Get the best parameters from the grid search\n",
    "best_params = grid_search.best_params_\n"
   ]
  },
  {
   "cell_type": "code",
   "execution_count": 8,
   "id": "4f16d37a",
   "metadata": {},
   "outputs": [
    {
     "data": {
      "text/plain": [
       "SVC(C=10, gamma=0.01)"
      ]
     },
     "execution_count": 8,
     "metadata": {},
     "output_type": "execute_result"
    }
   ],
   "source": [
    "# Train the SVM model with the best parameters\n",
    "best_svm_model = SVC(**best_params)\n",
    "best_svm_model.fit(X_train_scaled, Y_train)\n"
   ]
  },
  {
   "cell_type": "code",
   "execution_count": 9,
   "id": "63a874e7",
   "metadata": {},
   "outputs": [
    {
     "name": "stdout",
     "output_type": "stream",
     "text": [
      "Testing Accuracy: 0.8524590163934426\n"
     ]
    }
   ],
   "source": [
    "# Make predictions on the test set\n",
    "test_Y_pred = best_svm_model.predict(X_test_scaled)\n",
    "testing_accuracy = accuracy_score(test_Y_pred, Y_test)\n",
    "print(\"Testing Accuracy:\", testing_accuracy)"
   ]
  },
  {
   "cell_type": "code",
   "execution_count": 10,
   "id": "3f6565f3",
   "metadata": {},
   "outputs": [
    {
     "name": "stderr",
     "output_type": "stream",
     "text": [
      "/home/student/anaconda3/lib/python3.9/site-packages/sklearn/base.py:450: UserWarning: X does not have valid feature names, but StandardScaler was fitted with feature names\n",
      "  warnings.warn(\n"
     ]
    }
   ],
   "source": [
    "# Make a prediction using a sample input\n",
    "input_data = np.array([43, 1, 0, 120, 177, 0, 0, 120, 1, 2.5, 1, 0, 3]).reshape(1, -1)\n",
    "input_data_scaled = scaler.transform(input_data)\n",
    "prediction = best_svm_model.predict(input_data_scaled)\n"
   ]
  },
  {
   "cell_type": "code",
   "execution_count": 11,
   "id": "1c5527e2",
   "metadata": {},
   "outputs": [
    {
     "name": "stdout",
     "output_type": "stream",
     "text": [
      "This person doesn't have heart disease.\n"
     ]
    }
   ],
   "source": [
    "if prediction[0] == 0:\n",
    "    print(\"This person doesn't have heart disease.\")\n",
    "else:\n",
    "    print(\"This person has heart disease.\")"
   ]
  },
  {
   "cell_type": "code",
   "execution_count": null,
   "id": "8c5044b6",
   "metadata": {},
   "outputs": [],
   "source": []
  }
 ],
 "metadata": {
  "kernelspec": {
   "display_name": "Python 3 (ipykernel)",
   "language": "python",
   "name": "python3"
  },
  "language_info": {
   "codemirror_mode": {
    "name": "ipython",
    "version": 3
   },
   "file_extension": ".py",
   "mimetype": "text/x-python",
   "name": "python",
   "nbconvert_exporter": "python",
   "pygments_lexer": "ipython3",
   "version": "3.9.12"
  }
 },
 "nbformat": 4,
 "nbformat_minor": 5
}
