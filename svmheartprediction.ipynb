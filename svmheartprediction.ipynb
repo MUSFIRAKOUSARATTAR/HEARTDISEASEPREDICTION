{
 "cells": [
  {
   "cell_type": "code",
   "execution_count": 1,
   "id": "2f7d9287",
   "metadata": {},
   "outputs": [],
   "source": [
    "import numpy as np\n",
    "import pandas as pd\n",
    "from sklearn.model_selection import train_test_split\n",
    "from sklearn.svm import SVC\n",
    "from sklearn.metrics import accuracy_score\n"
   ]
  },
  {
   "cell_type": "code",
   "execution_count": 2,
   "id": "c9c851b8",
   "metadata": {},
   "outputs": [],
   "source": [
    "heart_df = pd.read_csv('heart_disease_data.csv')\n"
   ]
  },
  {
   "cell_type": "code",
   "execution_count": 3,
   "id": "2235ff19",
   "metadata": {},
   "outputs": [],
   "source": [
    "X = heart_df.drop('target', axis=1)\n",
    "Y = heart_df['target']"
   ]
  },
  {
   "cell_type": "code",
   "execution_count": 4,
   "id": "3801005e",
   "metadata": {},
   "outputs": [],
   "source": [
    "# Split the data into training and testing sets\n",
    "X_train, X_test, Y_train, Y_test = train_test_split(X, Y, test_size=0.2, random_state=42)\n"
   ]
  },
  {
   "cell_type": "code",
   "execution_count": 5,
   "id": "152a6ca1",
   "metadata": {},
   "outputs": [
    {
     "data": {
      "text/plain": [
       "SVC()"
      ]
     },
     "execution_count": 5,
     "metadata": {},
     "output_type": "execute_result"
    }
   ],
   "source": [
    "# Train the SVM model\n",
    "svm_model = SVC()\n",
    "svm_model.fit(X_train, Y_train)\n"
   ]
  },
  {
   "cell_type": "code",
   "execution_count": 6,
   "id": "b5aaf6c8",
   "metadata": {},
   "outputs": [
    {
     "name": "stdout",
     "output_type": "stream",
     "text": [
      "Training Accuracy: 0.6570247933884298\n"
     ]
    }
   ],
   "source": [
    "# Make predictions on the training set\n",
    "train_Y_pred = svm_model.predict(X_train)\n",
    "training_accuracy = accuracy_score(train_Y_pred, Y_train)\n",
    "print(\"Training Accuracy:\", training_accuracy)\n"
   ]
  },
  {
   "cell_type": "code",
   "execution_count": 7,
   "id": "2a458939",
   "metadata": {},
   "outputs": [
    {
     "name": "stdout",
     "output_type": "stream",
     "text": [
      "Testing Accuracy: 0.7049180327868853\n"
     ]
    }
   ],
   "source": [
    "# Make predictions on the test set\n",
    "test_Y_pred = svm_model.predict(X_test)\n",
    "testing_accuracy = accuracy_score(test_Y_pred, Y_test)\n",
    "print(\"Testing Accuracy:\", testing_accuracy)"
   ]
  },
  {
   "cell_type": "code",
   "execution_count": 10,
   "id": "5b986ab8",
   "metadata": {},
   "outputs": [
    {
     "name": "stderr",
     "output_type": "stream",
     "text": [
      "/home/student/anaconda3/lib/python3.9/site-packages/sklearn/base.py:450: UserWarning: X does not have valid feature names, but SVC was fitted with feature names\n",
      "  warnings.warn(\n"
     ]
    }
   ],
   "source": [
    "# Make a prediction using a sample input\n",
    "input_data = np.array([43,1,0,120,177,0,0,120,1,2.5,1,0,3]).reshape(1, -1)\n",
    "prediction = svm_model.predict(input_data)"
   ]
  },
  {
   "cell_type": "code",
   "execution_count": 11,
   "id": "7bb8a2ae",
   "metadata": {},
   "outputs": [
    {
     "name": "stdout",
     "output_type": "stream",
     "text": [
      "This person doesn't have heart disease.\n"
     ]
    }
   ],
   "source": [
    "if prediction[0] == 0:\n",
    "    print(\"This person doesn't have heart disease.\")\n",
    "else:\n",
    "    print(\"This person has heart disease.\")"
   ]
  },
  {
   "cell_type": "code",
   "execution_count": null,
   "id": "f47ff76f",
   "metadata": {},
   "outputs": [],
   "source": []
  }
 ],
 "metadata": {
  "kernelspec": {
   "display_name": "Python 3 (ipykernel)",
   "language": "python",
   "name": "python3"
  },
  "language_info": {
   "codemirror_mode": {
    "name": "ipython",
    "version": 3
   },
   "file_extension": ".py",
   "mimetype": "text/x-python",
   "name": "python",
   "nbconvert_exporter": "python",
   "pygments_lexer": "ipython3",
   "version": "3.9.12"
  }
 },
 "nbformat": 4,
 "nbformat_minor": 5
}
