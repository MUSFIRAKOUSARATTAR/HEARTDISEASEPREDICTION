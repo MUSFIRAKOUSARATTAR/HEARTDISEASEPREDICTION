{
 "cells": [
  {
   "cell_type": "code",
   "execution_count": null,
   "id": "5fbf7393",
   "metadata": {},
   "outputs": [],
   "source": [
    "import numpy as np\n",
    "import pandas as pd\n",
    "from sklearn.model_selection import train_test_split\n",
    "from sklearn.svm import SVC\n",
    "from sklearn.metrics import accuracy_score\n",
    "\n",
    "# Load the dataset\n",
    "heart_df = pd.read_csv('heart_disease_data.csv')\n",
    "\n",
    "# Split the data into features (X) and target variable (Y)\n",
    "X = heart_df.drop('target', axis=1)\n",
    "Y = heart_df['target']\n",
    "\n",
    "# Split the data into training and testing sets\n",
    "X_train, X_test, Y_train, Y_test = train_test_split(X, Y, test_size=0.2, random_state=42)\n",
    "\n",
    "# Train the SVM model\n",
    "svm_model = SVC()\n",
    "svm_model.fit(X_train, Y_train)\n",
    "\n",
    "# Make predictions on the training set\n",
    "train_Y_pred = svm_model.predict(X_train)\n",
    "training_accuracy = accuracy_score(train_Y_pred, Y_train)\n",
    "print(\"Training Accuracy:\", training_accuracy)\n",
    "\n",
    "# Make predictions on the test set\n",
    "test_Y_pred = svm_model.predict(X_test)\n",
    "testing_accuracy = accuracy_score(test_Y_pred, Y_test)\n",
    "print(\"Testing Accuracy:\", testing_accuracy)\n",
    "\n",
    "# Make a prediction using a sample input\n",
    "input_data = np.array([56, 1, 1, 120, 236, 0, 1, 178, 0, 0.8, 2, 0, 2]).reshape(1, -1)\n",
    "prediction = svm_model.predict(input_data)\n",
    "\n",
    "if prediction[0] == 0:\n",
    "    print(\"This person doesn't have heart disease.\")\n",
    "else:\n",
    "    print(\"This person has heart disease.\")\n"
   ]
  }
 ],
 "metadata": {
  "kernelspec": {
   "display_name": "Python 3 (ipykernel)",
   "language": "python",
   "name": "python3"
  },
  "language_info": {
   "codemirror_mode": {
    "name": "ipython",
    "version": 3
   },
   "file_extension": ".py",
   "mimetype": "text/x-python",
   "name": "python",
   "nbconvert_exporter": "python",
   "pygments_lexer": "ipython3",
   "version": "3.9.12"
  }
 },
 "nbformat": 4,
 "nbformat_minor": 5
}
